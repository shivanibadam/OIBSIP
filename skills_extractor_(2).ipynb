{
  "cells": [
    {
      "cell_type": "markdown",
      "metadata": {
        "id": "view-in-github",
        "colab_type": "text"
      },
      "source": [
        "<a href=\"https://colab.research.google.com/github/shivanibadam/OIBSIP/blob/main/skills_extractor_(2).ipynb\" target=\"_parent\"><img src=\"https://colab.research.google.com/assets/colab-badge.svg\" alt=\"Open In Colab\"/></a>"
      ]
    },
    {
      "cell_type": "code",
      "execution_count": null,
      "metadata": {
        "id": "omiBskuhhcWM"
      },
      "outputs": [],
      "source": [
        "from pyresparser import ResumeParser\n",
        "import os\n",
        "from docx import Document"
      ]
    },
    {
      "cell_type": "code",
      "source": [],
      "metadata": {
        "id": "EunFqKpGhej-"
      },
      "execution_count": null,
      "outputs": []
    },
    {
      "cell_type": "code",
      "source": [],
      "metadata": {
        "id": "i50vrUBei-YD"
      },
      "execution_count": null,
      "outputs": []
    },
    {
      "cell_type": "code",
      "execution_count": null,
      "metadata": {
        "id": "waZ-EeLThcWO",
        "outputId": "e69d1bc2-a1bd-41cc-e1d7-ad7d19bef217"
      },
      "outputs": [
        {
          "name": "stdout",
          "output_type": "stream",
          "text": [
            "cv.pdf\n"
          ]
        }
      ],
      "source": [
        "##file format should be in .txt , .docx or .pdf only\n",
        "filed=input()"
      ]
    },
    {
      "cell_type": "code",
      "execution_count": null,
      "metadata": {
        "id": "AreVsA7nhcWP",
        "outputId": "2bf0cedb-e253-413b-bd27-a3dcbb737e3f"
      },
      "outputs": [
        {
          "name": "stdout",
          "output_type": "stream",
          "text": [
            "['C', 'Statistics', 'Word', 'Database', 'Analysis', 'Engineering', 'C++', 'Html', 'Design', 'Pyqt', 'Css', 'Ui', 'Python', 'Modeling', 'Sci', 'Keras', 'Opencv', 'Coding', 'Algorithms', 'Prototype', 'Github', 'Chemicals', 'Machine learning', 'Programming', 'Testing', 'Training', 'Api']\n"
          ]
        }
      ],
      "source": [
        "try:\n",
        "    doc = Document()\n",
        "    with open(filed, 'r') as file:\n",
        "        doc.add_paragraph(file.read())\n",
        "    doc.save(\"text.docx\")\n",
        "    data = ResumeParser('text.docx').get_extracted_data()\n",
        "    print(data['skills'])\n",
        "except:\n",
        "    data = ResumeParser(filed).get_extracted_data()\n",
        "    print(data['skills'])"
      ]
    },
    {
      "cell_type": "code",
      "execution_count": null,
      "metadata": {
        "id": "yfdG5n44hcWP"
      },
      "outputs": [],
      "source": []
    },
    {
      "cell_type": "code",
      "execution_count": null,
      "metadata": {
        "id": "hU-JLyoZhcWP"
      },
      "outputs": [],
      "source": [
        "#K:\\resume_sample\\cv.pdf\n",
        "#K:\\resume_sample\\AmanSharma.pdf"
      ]
    },
    {
      "cell_type": "code",
      "execution_count": null,
      "metadata": {
        "id": "J_Xv_61ChcWQ"
      },
      "outputs": [],
      "source": []
    }
  ],
  "metadata": {
    "kernelspec": {
      "display_name": "Python 3",
      "language": "python",
      "name": "python3"
    },
    "language_info": {
      "codemirror_mode": {
        "name": "ipython",
        "version": 3
      },
      "file_extension": ".py",
      "mimetype": "text/x-python",
      "name": "python",
      "nbconvert_exporter": "python",
      "pygments_lexer": "ipython3",
      "version": "3.7.6"
    },
    "colab": {
      "provenance": [],
      "include_colab_link": true
    }
  },
  "nbformat": 4,
  "nbformat_minor": 0
}